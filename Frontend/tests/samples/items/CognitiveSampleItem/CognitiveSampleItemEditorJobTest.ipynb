{
 "cells": [
  {
   "cell_type": "code",
   "execution_count": null,
   "id": "224ab1b5",
   "metadata": {
    "vscode": {
     "languageId": "plaintext"
    }
   },
   "outputs": [],
   "source": [
    "from msal import PublicClientApplication\n",
    "import requests\n",
    "import time\n",
    "\n",
    "tenant_id = \"<Entra_TenantID>\"\n",
    "client_id = \"<Entra_ClientID>\"\n",
    "\n",
    "workspace_id = \"<Fabric_WorkspaceID>\"\n",
    "lakehouse_id = \"<Fabric_LakehouseID>\"\n",
    "\n",
    "# Script parameters\n",
    "\n",
    "lakehouse_table_name = \"<Sentiment_Table_Name>\"\n",
    "sourceColumnName = \"<Sentiment_Source_ Column_Name>\"\n",
    "sentimentColumnName = \"<Sentiment_Column_Name>\"\n"
   ]
  },
  {
   "cell_type": "code",
   "execution_count": null,
   "id": "324b9085",
   "metadata": {
    "vscode": {
     "languageId": "plaintext"
    }
   },
   "outputs": [],
   "source": [
    "# Logging in to get a Token to access the API LivyApi\n",
    "\n",
    "app = PublicClientApplication(\n",
    "    client_id,\n",
    "    authority=\"https://login.microsoftonline.com/43a26159-4e8e-442a-9f9c-cb7a13481d48\"\n",
    ")\n",
    "\n",
    "result = None\n",
    "\n",
    "# If no cached tokens or user interaction needed, acquire tokens interactively\n",
    "if not result:\n",
    "    result = app.acquire_token_interactive(scopes=[\"https://api.fabric.microsoft.com/Lakehouse.Execute.All\", \"https://api.fabric.microsoft.com/Lakehouse.Read.All\", \"https://api.fabric.microsoft.com/Item.ReadWrite.All\", \"https://api.fabric.microsoft.com/Workspace.ReadWrite.All\", \"https://api.fabric.microsoft.com/Code.AccessStorage.All\", \"https://api.fabric.microsoft.com/Code.AccessAzureKeyvault.All\", \n",
    "    \"https://api.fabric.microsoft.com/Code.AccessAzureDataExplorer.All\", \"https://api.fabric.microsoft.com/Code.AccessAzureDataLake.All\", \"https://api.fabric.microsoft.com/Code.AccessFabric.All\"])\n",
    "\n",
    "# Print the access token (you can use it to call APIs)\n",
    "if \"access_token\" in result:\n",
    "    print(f\"Access token: {result['access_token']}\")\n",
    "else:\n",
    "    print(\"Authentication failed or no access token obtained.\")\n",
    "\n",
    "if \"access_token\" in result:\n",
    "    access_token = result['access_token']\n",
    "    api_base_url ='https://api.fabric.microsoft.com/v1'\n",
    "    livy_base_url = api_base_url + \"/workspaces/\"+workspace_id+\"/lakehouses/\"+lakehouse_id +\"/livyApi/versions/2023-12-01/batches\"\n",
    "        headers = {\"Authorization\": \"Bearer \" + access_token}"
   ]
  },
  {
   "cell_type": "code",
   "execution_count": null,
   "id": "6c84617e",
   "metadata": {
    "vscode": {
     "languageId": "plaintext"
    }
   },
   "outputs": [],
   "source": [
    "get_livy_get_batch = livy_base_url\n",
    "get_batch_response = requests.get(get_livy_get_batch, headers = headers)\n",
    "if get_batch_response.status_code == 200:\n",
    "    print(\"API call successful\")\n",
    "    print(get_batch_response.json())\n",
    "else:\n",
    "    print(f\"API call failed with status code: {get_batch_response.status_code}\")\n",
    "    print(get_batch_response.text)"
   ]
  },
  {
   "cell_type": "code",
   "execution_count": null,
   "id": "a1364e12",
   "metadata": {
    "vscode": {
     "languageId": "plaintext"
    }
   },
   "outputs": [],
   "source": [
    "# submit payload to existing batch session\n",
    "\n",
    "print('Submit a spark job via the livy batch API to ') \n",
    "\n",
    "newlakehouseName = \"YourNewLakehouseName\"\n",
    "create_lakehouse = api_base_url + \"/workspaces/\" + workspace_id + \"/items\"\n",
    "create_lakehouse_payload = {\n",
    "    \"displayName\": newlakehouseName,\n",
    "    \"type\": 'Lakehouse'\n",
    "    }\n",
    "\n",
    "create_lakehouse_response = requests.post(create_lakehouse, headers = headers, json = create_lakehouse_payload)\n",
    "print(create_lakehouse_response.json())\n",
    "\n",
    "payload_data = {\n",
    "    \"name\":\"livybatchdemo_with\"+ newlakehouseName,\n",
    "    \"file\":\"abfss://YourABFSPathToYourPayload.py\", \n",
    "    \"conf\": {\n",
    "        \"spark.targetLakehouse\": \"Fabric_LakehouseID\",\n",
    "        \"spark.targetTable\": targetTable,\n",
    "        \"spark.sourceColumnName\": sourceColumnName,\n",
    "        \"spark.sentimentColumnName\" sentimentColumnName\n",
    "        }\n",
    "    }\n",
    "\n",
    "get_batch_response = requests.post(get_livy_get_batch, headers = headers, json = payload_data)\n",
    "\n",
    "print(\"The Livy batch job submitted successful\")\n",
    "print(get_batch_response.json())"
   ]
  }
 ],
 "metadata": {
  "language_info": {
   "name": "python"
  }
 },
 "nbformat": 4,
 "nbformat_minor": 5
}
